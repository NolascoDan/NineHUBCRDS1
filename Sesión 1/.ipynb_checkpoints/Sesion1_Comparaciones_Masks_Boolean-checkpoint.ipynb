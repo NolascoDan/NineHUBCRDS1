{
 "cells": [
  {
   "cell_type": "markdown",
   "metadata": {},
   "source": [
    "# Comparaciones, Máscaras, y Lógica Booleana\n",
    "\n",
    "Esta sección cubre el uso de máscaras Booleanas para examinar y manipular valores con arreglos de NumPy\n",
    "\n",
    "Masking o máscaras se utiliza cuando se quiere extraer, modificar, contar, o manipular valores en un arreglo, por ejemplo:\n",
    "- Contar todos los valores mayores a cierto valor.\n",
    "- Quitar todos los valores por encima de algún parámetro.\n",
    "\n",
    "Para estos ejemplos utilizaremos NumPy, Mabplotlib, Seaborn, y Pandas."
   ]
  },
  {
   "cell_type": "code",
   "execution_count": null,
   "metadata": {},
   "outputs": [],
   "source": [
    "import numpy as np\n",
    "import pandas as pd\n",
    "\n",
    "# Importar datos como un NumPy Array\n"
   ]
  }
 ],
 "metadata": {
  "kernelspec": {
   "display_name": "Python 3",
   "language": "python",
   "name": "python3"
  },
  "language_info": {
   "codemirror_mode": {
    "name": "ipython",
    "version": 3
   },
   "file_extension": ".py",
   "mimetype": "text/x-python",
   "name": "python",
   "nbconvert_exporter": "python",
   "pygments_lexer": "ipython3",
   "version": "3.6.2"
  }
 },
 "nbformat": 4,
 "nbformat_minor": 4
}
