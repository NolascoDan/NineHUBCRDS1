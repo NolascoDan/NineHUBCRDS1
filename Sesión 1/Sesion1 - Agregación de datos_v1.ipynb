{
 "cells": [
  {
   "cell_type": "markdown",
   "metadata": {},
   "source": [
    "# Agregaciones de datos\n",
    "\n",
    "A menudo, cuando se enfrenta a una gran cantidad de datos, un primer paso es calcular estadísticas resumidas para los datos en cuestión. Quizás las estadísticas de resumen más comunes son la media y la desviación estándar, que le permiten resumir los valores \"típicos\" en un conjunto de datos, pero otros agregados también son útiles (la suma, el producto, la mediana, el mínimo y el máximo, los cuantiles, etc. ).\n",
    "\n",
    "NumPy tiene funciones de agregación integradas rápidas para trabajar en matrices; discutiremos y demostraremos algunos de ellos aquí.\n"
   ]
  },
  {
   "cell_type": "markdown",
   "metadata": {},
   "source": [
    "**Sumar los valores en una matriz:**\n",
    "\n",
    "Como ejemplo rápido, considere calcular la suma de todos los valores en una matriz. Python mismo puede hacer esto usando la función de suma incorporada:"
   ]
  },
  {
   "cell_type": "code",
   "execution_count": null,
   "metadata": {},
   "outputs": [],
   "source": [
    "import numpy as np"
   ]
  },
  {
   "cell_type": "code",
   "execution_count": null,
   "metadata": {},
   "outputs": [],
   "source": [
    "L = np.random.random(100)\n",
    "sum(L)"
   ]
  },
  {
   "cell_type": "markdown",
   "metadata": {},
   "source": [
    "**Mínimo y Máximo:**\n",
    "De manera similar, Python tiene funciones mínimas y máximas integradas, que se utilizan para encontrar el valor mínimo y el valor máximo de cualquier matriz dada:"
   ]
  },
  {
   "cell_type": "code",
   "execution_count": null,
   "metadata": {},
   "outputs": [],
   "source": [
    "big_array = np.random.rand(1000000)"
   ]
  },
  {
   "cell_type": "code",
   "execution_count": null,
   "metadata": {},
   "outputs": [],
   "source": [
    "min(big_array), max(big_array)"
   ]
  },
  {
   "cell_type": "markdown",
   "metadata": {},
   "source": [
    "Las funciones correspondientes de NumPy tienen una sintaxis similar y operan mucho más rápidamente:"
   ]
  },
  {
   "cell_type": "code",
   "execution_count": null,
   "metadata": {},
   "outputs": [],
   "source": [
    "np.min(big_array), np.max(big_array)"
   ]
  },
  {
   "cell_type": "markdown",
   "metadata": {},
   "source": [
    "Para min, max, sum y varios otros agregados de NumPy, una sintaxis más corta es usar métodos del objeto de matriz en sí:"
   ]
  },
  {
   "cell_type": "code",
   "execution_count": null,
   "metadata": {},
   "outputs": [],
   "source": [
    "print(big_array.min(), big_array.max(), big_array.sum())"
   ]
  },
  {
   "cell_type": "markdown",
   "metadata": {},
   "source": [
    "Existen muchas herramientas para agregar datos:\n",
    "\n",
    "    np.sum    np.nansum Calcular la suma de elementos\n",
    "    np.prod   np.nanprod Calcular producto de elementos\n",
    "    np.mean   np.nanmean Calcular la media de elementos\n",
    "    np.std    np.nanstd Calcular la desviación estándar\n",
    "    np.var    np.nanvar Calcular varianza\n",
    "    np.min    np.nanmin Encuentra el valor mínimo\n",
    "    np.max    np.nanmax Encuentra el valor máximo\n",
    "    np.argmin np.nanargmin Encontrar índice de valor mínimo\n",
    "    np.argmax np.nanargmax Encontrar índice de valor máximo\n",
    "    np.median np.nanmedian Calcular la mediana de los elementos\n",
    "    np.percentile np.nanpercentile Calcular estadísticas de elementos basadas en rangos\n",
    "    np. any N / A Evaluar si algún elemento es verdadero\n",
    "    np.all N / A Evaluar si todos los elementos son verdaderos"
   ]
  },
  {
   "cell_type": "code",
   "execution_count": null,
   "metadata": {},
   "outputs": [],
   "source": []
  }
 ],
 "metadata": {
  "kernelspec": {
   "display_name": "Python 3",
   "language": "python",
   "name": "python3"
  },
  "language_info": {
   "codemirror_mode": {
    "name": "ipython",
    "version": 3
   },
   "file_extension": ".py",
   "mimetype": "text/x-python",
   "name": "python",
   "nbconvert_exporter": "python",
   "pygments_lexer": "ipython3",
   "version": "3.7.6"
  }
 },
 "nbformat": 4,
 "nbformat_minor": 4
}
